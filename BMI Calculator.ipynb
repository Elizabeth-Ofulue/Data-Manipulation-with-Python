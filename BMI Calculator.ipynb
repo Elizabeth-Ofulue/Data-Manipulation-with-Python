{
 "cells": [
  {
   "cell_type": "code",
   "execution_count": 4,
   "id": "fa49acfc",
   "metadata": {},
   "outputs": [
    {
     "name": "stdout",
     "output_type": "stream",
     "text": [
      "BMI Calculator\n",
      "You are underweight\n"
     ]
    }
   ],
   "source": [
    "print(\"BMI Calculator\")\n",
    "\n",
    "weight = float(input(\"enter your weight in kgs\"))\n",
    "height = float(input(\"enter your height in metres\"))\n",
    "BMI = weight / (height ** 2)\n",
    "BMI\n",
    "\n",
    "if BMI > 0:\n",
    "    if BMI < 16:\n",
    "        print('You are very underweight')\n",
    "    elif BMI < 18.5:\n",
    "        print(\"You are underweight\")\n",
    "    elif BMI <= 25:\n",
    "        print(\"Congrats! You are Healthy\")\n",
    "    elif BMI <= 30:\n",
    "        print(\"You are overweight\")\n",
    "    else:\n",
    "        print(\"You are very overweight\")\n",
    "else:\n",
    "    print(\"enter valid details\")"
   ]
  }
 ],
 "metadata": {
  "kernelspec": {
   "display_name": "Python 3.9.6 64-bit",
   "language": "python",
   "name": "python3"
  },
  "language_info": {
   "codemirror_mode": {
    "name": "ipython",
    "version": 3
   },
   "file_extension": ".py",
   "mimetype": "text/x-python",
   "name": "python",
   "nbconvert_exporter": "python",
   "pygments_lexer": "ipython3",
   "version": "3.9.6"
  },
  "vscode": {
   "interpreter": {
    "hash": "31f2aee4e71d21fbe5cf8b01ff0e069b9275f58929596ceb00d14d90e3e16cd6"
   }
  }
 },
 "nbformat": 4,
 "nbformat_minor": 5
}
