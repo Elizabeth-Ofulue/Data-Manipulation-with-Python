{
 "cells": [
  {
   "cell_type": "markdown",
   "id": "8eac1392",
   "metadata": {},
   "source": [
    "# Data Parsing on .services Extension Files"
   ]
  },
  {
   "cell_type": "markdown",
   "id": "8e47769e",
   "metadata": {},
   "source": [
    "# Table of Content\n",
    "1. [A Service File](#a-service-file)\n",
    "2. [Problem Statement](#problem-statement)\n",
    "3. [Open, Parse & Access Files](#open,-parse-&-access-files)\n",
    "4. [Data Cleaning](#data-cleaning)\n",
    "5. [Note:](#note:)"
   ]
  },
  {
   "cell_type": "markdown",
   "id": "464eeb90",
   "metadata": {},
   "source": [
    "### A Service File\n",
    "\n",
    "A **SERVICE** file is a service unit file included with systemd, an init (initialization) system used by various Linux distributions to bootstrap user space and manage processes. \n",
    "\n",
    "It contain information about how to manage a server application or service. [Read More](https://fileinfo.com/extension/service)....\n"
   ]
  },
  {
   "cell_type": "markdown",
   "id": "58288d47",
   "metadata": {},
   "source": [
    "### Problem Statement\n",
    "\n",
    "Although these service files may be available, opening and accessing the contents of these files can be quite difficult. Very few or no applications (depending on your location/ country) can open a service file and access its content.\n",
    "\n",
    "This notebook applies the data parsing capability of python libraries to:\n",
    "* access\n",
    "* open\n",
    "* clean and \n",
    "* write the data contained in several service files to a readable format like csv."
   ]
  },
  {
   "cell_type": "markdown",
   "id": "727e7d5f",
   "metadata": {},
   "source": [
    "### Open, Parse & Access Files"
   ]
  },
  {
   "cell_type": "code",
   "execution_count": 1,
   "id": "7f27002c",
   "metadata": {},
   "outputs": [],
   "source": [
    "#Import required libraries\n",
    "import pandas as pd\n",
    "import os\n",
    "import regex as re\n",
    "import numpy as np"
   ]
  },
  {
   "cell_type": "code",
   "execution_count": 2,
   "id": "e20cac77",
   "metadata": {},
   "outputs": [],
   "source": [
    "#Assign file directory to variable pw\n",
    "pw = \"/Users/elizabethofulue/Downloads/Inventory/\""
   ]
  },
  {
   "cell_type": "code",
   "execution_count": 3,
   "id": "3bdeaa13",
   "metadata": {},
   "outputs": [],
   "source": [
    "#Create function to access extension files of interest\n",
    "\n",
    "def access_file(p):\n",
    "    \n",
    "    #use the os library to access files in directory\n",
    "    path = os.getcwd()\n",
    "    files = os.listdir(p)\n",
    "    \n",
    "    #Access all files with .services extension\n",
    "    fa = [s for s in files if s[-8:] == 'services']\n",
    "    return fa\n",
    "    "
   ]
  },
  {
   "cell_type": "code",
   "execution_count": null,
   "id": "96f291a1",
   "metadata": {},
   "outputs": [],
   "source": [
    "#Apply the access_file function to pw\n",
    "ad = access_file(pw)\n",
    "ad"
   ]
  },
  {
   "cell_type": "code",
   "execution_count": 5,
   "id": "e788baf8",
   "metadata": {},
   "outputs": [],
   "source": [
    "#Create a function with one variable to parse the contents of each extension file into a dataframe\n",
    "\n",
    "def open_line(l):\n",
    "    #Create an empty list\n",
    "    line = []\n",
    "    #Loop through and open the content of every files in fa\n",
    "    for filename in l:\n",
    "        with open(pw+filename, 'r', encoding='utf16') as re:\n",
    "            ''' Read and append every line to empty list\n",
    "            This is done to ensure that every line is read as a row into a dataframe\n",
    "            '''\n",
    "            line.append(re.readlines())\n",
    "            #Create dataframe from list\n",
    "    ad = pd.DataFrame(line)\n",
    "    return(ad)\n"
   ]
  },
  {
   "cell_type": "code",
   "execution_count": 6,
   "id": "7d8c7f5e",
   "metadata": {},
   "outputs": [
    {
     "data": {
      "text/html": [
       "<div>\n",
       "<style scoped>\n",
       "    .dataframe tbody tr th:only-of-type {\n",
       "        vertical-align: middle;\n",
       "    }\n",
       "\n",
       "    .dataframe tbody tr th {\n",
       "        vertical-align: top;\n",
       "    }\n",
       "\n",
       "    .dataframe thead th {\n",
       "        text-align: right;\n",
       "    }\n",
       "</style>\n",
       "<table border=\"1\" class=\"dataframe\">\n",
       "  <thead>\n",
       "    <tr style=\"text-align: right;\">\n",
       "      <th></th>\n",
       "      <th>0</th>\n",
       "      <th>1</th>\n",
       "      <th>2</th>\n",
       "      <th>3</th>\n",
       "      <th>4</th>\n",
       "      <th>5</th>\n",
       "      <th>6</th>\n",
       "      <th>7</th>\n",
       "      <th>8</th>\n",
       "      <th>9</th>\n",
       "      <th>...</th>\n",
       "      <th>321</th>\n",
       "      <th>322</th>\n",
       "      <th>323</th>\n",
       "      <th>324</th>\n",
       "      <th>325</th>\n",
       "      <th>326</th>\n",
       "      <th>327</th>\n",
       "      <th>328</th>\n",
       "      <th>329</th>\n",
       "      <th>330</th>\n",
       "    </tr>\n",
       "  </thead>\n",
       "  <tbody>\n",
       "    <tr>\n",
       "      <th>0</th>\n",
       "      <td>\"BNY-D-3775\";\"Cisco AnyConnect Secure Mobility...</td>\n",
       "      <td>\"BNY-D-3775\";\"AllJoyn Router Service\";\"AllJoyn...</td>\n",
       "      <td>\"BNY-D-3775\";\"Application Layer Gateway Servic...</td>\n",
       "      <td>\"BNY-D-3775\";\"AMD Crash Defender Service\";\"AMD...</td>\n",
       "      <td>\"BNY-D-3775\";\"Application Identity\";\"Applicati...</td>\n",
       "      <td>\"BNY-D-3775\";\"Application Information\";\"Applic...</td>\n",
       "      <td>\"BNY-D-3775\";\"Application Management\";\"Applica...</td>\n",
       "      <td>\"BNY-D-3775\";\"App Readiness\";\"App Readiness\";\"...</td>\n",
       "      <td>\"BNY-D-3775\";\"Microsoft App-V Client\";\"Microso...</td>\n",
       "      <td>\"BNY-D-3775\";\"AppX Deployment Service (AppXSVC...</td>\n",
       "      <td>...</td>\n",
       "      <td>None</td>\n",
       "      <td>None</td>\n",
       "      <td>None</td>\n",
       "      <td>None</td>\n",
       "      <td>None</td>\n",
       "      <td>None</td>\n",
       "      <td>None</td>\n",
       "      <td>None</td>\n",
       "      <td>None</td>\n",
       "      <td>None</td>\n",
       "    </tr>\n",
       "  </tbody>\n",
       "</table>\n",
       "<p>1 rows × 331 columns</p>\n",
       "</div>"
      ],
      "text/plain": [
       "                                                 0    \\\n",
       "0  \"BNY-D-3775\";\"Cisco AnyConnect Secure Mobility...   \n",
       "\n",
       "                                                 1    \\\n",
       "0  \"BNY-D-3775\";\"AllJoyn Router Service\";\"AllJoyn...   \n",
       "\n",
       "                                                 2    \\\n",
       "0  \"BNY-D-3775\";\"Application Layer Gateway Servic...   \n",
       "\n",
       "                                                 3    \\\n",
       "0  \"BNY-D-3775\";\"AMD Crash Defender Service\";\"AMD...   \n",
       "\n",
       "                                                 4    \\\n",
       "0  \"BNY-D-3775\";\"Application Identity\";\"Applicati...   \n",
       "\n",
       "                                                 5    \\\n",
       "0  \"BNY-D-3775\";\"Application Information\";\"Applic...   \n",
       "\n",
       "                                                 6    \\\n",
       "0  \"BNY-D-3775\";\"Application Management\";\"Applica...   \n",
       "\n",
       "                                                 7    \\\n",
       "0  \"BNY-D-3775\";\"App Readiness\";\"App Readiness\";\"...   \n",
       "\n",
       "                                                 8    \\\n",
       "0  \"BNY-D-3775\";\"Microsoft App-V Client\";\"Microso...   \n",
       "\n",
       "                                                 9    ...   321   322   323  \\\n",
       "0  \"BNY-D-3775\";\"AppX Deployment Service (AppXSVC...  ...  None  None  None   \n",
       "\n",
       "    324   325   326   327   328   329   330  \n",
       "0  None  None  None  None  None  None  None  \n",
       "\n",
       "[1 rows x 331 columns]"
      ]
     },
     "execution_count": 6,
     "metadata": {},
     "output_type": "execute_result"
    }
   ],
   "source": [
    "#Apply open_line function to dataframe\n",
    "df = open_line(ad)\n",
    "df.head(1)"
   ]
  },
  {
   "cell_type": "code",
   "execution_count": 7,
   "id": "e994671b",
   "metadata": {},
   "outputs": [
    {
     "data": {
      "text/plain": [
       "0        1\n",
       "1        1\n",
       "2        1\n",
       "3        1\n",
       "4        1\n",
       "      ... \n",
       "326    526\n",
       "327    526\n",
       "328    526\n",
       "329    526\n",
       "330    526\n",
       "Length: 331, dtype: int64"
      ]
     },
     "execution_count": 7,
     "metadata": {},
     "output_type": "execute_result"
    }
   ],
   "source": [
    "#Check dataframe for null values\n",
    "df.isna().sum()"
   ]
  },
  {
   "cell_type": "code",
   "execution_count": 8,
   "id": "d427dbd5",
   "metadata": {},
   "outputs": [
    {
     "data": {
      "text/plain": [
       "(527, 331)"
      ]
     },
     "execution_count": 8,
     "metadata": {},
     "output_type": "execute_result"
    }
   ],
   "source": [
    "#Review the shape of the dataframe\n",
    "df.shape"
   ]
  },
  {
   "cell_type": "markdown",
   "id": "9a287e0b",
   "metadata": {},
   "source": [
    "The following were observed from the dataframe:\n",
    "\n",
    "* Some columns do contain null values which need to be dropped.\n",
    "* The values in each colmn are encased in double quotes - **\"\"**. These will be removed.\n",
    "* Each row in per column contains more than one value, separated by **;**. Eech row per column will be splitted by the seperatorand appended to the rows of a new dataframe."
   ]
  },
  {
   "cell_type": "markdown",
   "id": "bb96fa95",
   "metadata": {},
   "source": [
    "### Data Cleaning"
   ]
  },
  {
   "cell_type": "code",
   "execution_count": null,
   "id": "208fd08f",
   "metadata": {},
   "outputs": [],
   "source": [
    "#Strip dataframe of double quotes\n",
    "dff = df.apply(lambda x: x.str.replace('\"', ''), axis = 0)\n",
    "dff.head()"
   ]
  },
  {
   "cell_type": "code",
   "execution_count": 10,
   "id": "6b07998c",
   "metadata": {},
   "outputs": [],
   "source": [
    "#Create a function to expand and split values per column in dataframe\n",
    "\n",
    "def expand_df(df):\n",
    "    #Initialize empty dataframwe\n",
    "    sas = pd.DataFrame()\n",
    "    \n",
    "    #Loop through colname and values \n",
    "    for (colname,colval) in df.items():\n",
    "        if colname <= 330:\n",
    "            vt = colval.str.split(';', expand=True)\n",
    "            \n",
    "            #append split values to empty dataframe\n",
    "            sas = sas.append(vt)\n",
    "            \n",
    "            #return clean dataframe\n",
    "    return sas"
   ]
  },
  {
   "cell_type": "code",
   "execution_count": null,
   "id": "ef21a228",
   "metadata": {},
   "outputs": [],
   "source": [
    "#Apply expand_df function to dataframe\n",
    "dff = expand_df(dff)\n",
    "\n",
    "#Review the first 5 rows\n",
    "dff.head()"
   ]
  },
  {
   "cell_type": "code",
   "execution_count": null,
   "id": "85089bfb",
   "metadata": {},
   "outputs": [
    {
     "data": {
      "text/plain": [
       "BNY-D-3333    331\n",
       "ABJ-D-0006    320\n",
       "BNY-D-3768    320\n",
       "ABJ-L-0135    316\n",
       "ABJ-L-0099    316\n",
       "             ... \n",
       "ABJ-S-303     166\n",
       "ABJ-S-304     164\n",
       "ABJ-S-306     163\n",
       "ABJ-S-301     163\n",
       "ABJ-S-305     156\n",
       "Name: 0, Length: 526, dtype: int64"
      ]
     },
     "execution_count": 12,
     "metadata": {},
     "output_type": "execute_result"
    }
   ],
   "source": [
    "#Review value counts of the file names \n",
    "dff[0].value_counts()"
   ]
  },
  {
   "cell_type": "code",
   "execution_count": null,
   "id": "e4e53f83",
   "metadata": {},
   "outputs": [
    {
     "name": "stdout",
     "output_type": "stream",
     "text": [
      "<class 'pandas.core.frame.DataFrame'>\n",
      "Int64Index: 174437 entries, 0 to 526\n",
      "Data columns (total 11 columns):\n",
      " #   Column  Non-Null Count   Dtype \n",
      "---  ------  --------------   ----- \n",
      " 0   0       154906 non-null  object\n",
      " 1   1       154906 non-null  object\n",
      " 2   2       154906 non-null  object\n",
      " 3   3       154906 non-null  object\n",
      " 4   4       154906 non-null  object\n",
      " 5   5       154906 non-null  object\n",
      " 6   6       154906 non-null  object\n",
      " 7   7       154906 non-null  object\n",
      " 8   8       154906 non-null  object\n",
      " 9   9       154906 non-null  object\n",
      " 10  10      154906 non-null  object\n",
      "dtypes: object(11)\n",
      "memory usage: 16.0+ MB\n"
     ]
    }
   ],
   "source": [
    "#Review info of the dataframe\n",
    "dff.info()"
   ]
  },
  {
   "cell_type": "code",
   "execution_count": null,
   "id": "e0adc882",
   "metadata": {},
   "outputs": [
    {
     "data": {
      "text/plain": [
       "0     19531\n",
       "1     19531\n",
       "2     19531\n",
       "3     19531\n",
       "4     19531\n",
       "5     19531\n",
       "6     19531\n",
       "7     19531\n",
       "8     19531\n",
       "9     19531\n",
       "10    19531\n",
       "dtype: int64"
      ]
     },
     "execution_count": 14,
     "metadata": {},
     "output_type": "execute_result"
    }
   ],
   "source": [
    "#Confirm the value of null rows per column\n",
    "dff.isna().sum()"
   ]
  },
  {
   "cell_type": "markdown",
   "id": "f2590c17",
   "metadata": {},
   "source": [
    "* Although there are **174,437** entries, all columns have **154,906** non-null objects. This indicates the presence of null rows. These null rows will be removed as they do not cantain any relevant data.\n",
    "* Column 9 is a duplicate of column 0 while column 10 is populated with **\\n**. These columns can be removed as they are no longer relevant."
   ]
  },
  {
   "cell_type": "code",
   "execution_count": null,
   "id": "6f2c0b2b",
   "metadata": {},
   "outputs": [],
   "source": [
    "#Create a function to clean the dataframe\n",
    "def clean_df(df):\n",
    "    \n",
    "    #drop null rows\n",
    "    df.dropna(inplace= True)\n",
    "    \n",
    "    #Drop unwanted columns\n",
    "    df.drop([9, 10], inplace = True, axis = 1)\n",
    "    \n",
    "    #Rename column 0 to id\n",
    "    df.rename(columns={0:'id'}, inplace=True)\n",
    "    \n",
    "    #Return clean dataframe\n",
    "    return df.head()\n",
    "    "
   ]
  },
  {
   "cell_type": "code",
   "execution_count": null,
   "id": "d4253553",
   "metadata": {},
   "outputs": [],
   "source": [
    "#Apply clean_df function to dff\n",
    "mdf = clean_df(dff)\n",
    "\n",
    "#Review the first 5 rows\n",
    "mdf.head()"
   ]
  },
  {
   "cell_type": "markdown",
   "id": "4e95f8da",
   "metadata": {},
   "source": [
    "### Writing to CSV"
   ]
  },
  {
   "cell_type": "code",
   "execution_count": null,
   "id": "47beaa1f",
   "metadata": {},
   "outputs": [],
   "source": [
    "#Write clean mdf dataframe to csv file\n",
    "mdf.to_csv('services.csv')"
   ]
  },
  {
   "cell_type": "markdown",
   "id": "fcdf0ca9",
   "metadata": {},
   "source": [
    "### Note:\n",
    "Not every cleaning step may be applicable to the content of every .services file. However, the lines of code used to parse and access the contents of every file, remains uniform amongst most."
   ]
  }
 ],
 "metadata": {
  "kernelspec": {
   "display_name": "Python 3.9.6 64-bit",
   "language": "python",
   "name": "python3"
  },
  "language_info": {
   "codemirror_mode": {
    "name": "ipython",
    "version": 3
   },
   "file_extension": ".py",
   "mimetype": "text/x-python",
   "name": "python",
   "nbconvert_exporter": "python",
   "pygments_lexer": "ipython3",
   "version": "3.9.6"
  },
  "vscode": {
   "interpreter": {
    "hash": "31f2aee4e71d21fbe5cf8b01ff0e069b9275f58929596ceb00d14d90e3e16cd6"
   }
  }
 },
 "nbformat": 4,
 "nbformat_minor": 5
}
