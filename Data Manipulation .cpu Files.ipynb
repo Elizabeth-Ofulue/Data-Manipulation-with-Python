{
 "cells": [
  {
   "cell_type": "markdown",
   "id": "5c0c3441",
   "metadata": {},
   "source": [
    "# Data Parsing on .cpu Extension Files"
   ]
  },
  {
   "cell_type": "markdown",
   "id": "f5169aee",
   "metadata": {},
   "source": [
    "# Table of Content\n",
    "1. [A CPU File](#a-cpu-file)\n",
    "2. [Problem Statement](#problem-statement)\n",
    "3. [Open, Parse & Access Files](#open,-parse-&-access-files)\n",
    "4. [Data Cleaning](#data-cleaning)\n",
    "5. [Parse files with extended lengths](#parse-files-with-extended-lengths)\n",
    "6. [Note:](#note:)"
   ]
  },
  {
   "cell_type": "markdown",
   "id": "b53a2d85",
   "metadata": {},
   "source": [
    "### A CPU File\n",
    "\n",
    "Files with .cpu extension are known as Sysoft Sandra files. A cpu Sysoft Sandra file is a special file format and should only be edited and saved with the appropriate software. \n",
    "\n",
    ".cpu files are commonly used by Sandra, a software tool for Microsoft Windows operating system that allows users to test performance and get info about computer.[Read More](https://filext.com/file-extension/CPU)......"
   ]
  },
  {
   "cell_type": "markdown",
   "id": "7f543188",
   "metadata": {},
   "source": [
    "### Problem Statement\n",
    "\n",
    "Although these .cpu files may be available, opening and accessing the data stored in these files can be quite difficult without the use of a specialized software/ application. Very few or no applications (depending on your location/ country) can open a .cpu file and access its content.\n",
    "\n",
    "This notebook applies the data parsing capability of python libraries to:\n",
    "* access\n",
    "* open\n",
    "* clean and \n",
    "* write the data contained of several .cpu files to a readable format like csv."
   ]
  },
  {
   "cell_type": "markdown",
   "id": "5cc7c941",
   "metadata": {},
   "source": [
    "### Open, Parse & Access Files"
   ]
  },
  {
   "cell_type": "code",
   "execution_count": 1,
   "id": "7f27002c",
   "metadata": {},
   "outputs": [],
   "source": [
    "#Import required libraries\n",
    "import pandas as pd\n",
    "import os\n",
    "import regex as re\n",
    "import numpy as np\n",
    "from io import BytesIO\n",
    "import dask.dataframe as dd\n"
   ]
  },
  {
   "cell_type": "code",
   "execution_count": 2,
   "id": "e20cac77",
   "metadata": {},
   "outputs": [],
   "source": [
    "#Assign file directory to variable pw\n",
    "pw = \"/Users/elizabethofulue/Downloads/Inventory/\""
   ]
  },
  {
   "cell_type": "code",
   "execution_count": 3,
   "id": "7a40da54",
   "metadata": {},
   "outputs": [],
   "source": [
    "#Create function to access .cpu extension files\n",
    "\n",
    "def access_file(p):\n",
    "    \n",
    "    #use the os library to access files in directory\n",
    "    path = os.getcwd()\n",
    "    files = os.listdir(p)\n",
    "    \n",
    "    #Access all files with .services extension\n",
    "    fx = [f for f in files if f[-3:] == 'cpu']\n",
    "    return fx"
   ]
  },
  {
   "cell_type": "code",
   "execution_count": null,
   "id": "f956d603",
   "metadata": {},
   "outputs": [],
   "source": [
    "#Apply the access_file function to pw\n",
    "cp = access_file(pw)\n",
    "cp"
   ]
  },
  {
   "cell_type": "code",
   "execution_count": 5,
   "id": "d93da447",
   "metadata": {},
   "outputs": [],
   "source": [
    "#Create a function with one variable to parse the contents of each extension file into a dataframe\n",
    "\n",
    "def open_files(f):\n",
    "    #Create an empty list\n",
    "    line = []\n",
    "    #Loop through and open the content of every files in fa\n",
    "    for filename in f:\n",
    "        with open(pw+filename, 'r', encoding='utf16') as re:\n",
    "            ''' Read and append every line to empty list\n",
    "            This is done to ensure that every line is read as a row into a dataframe\n",
    "            '''\n",
    "            line.append(re.readlines())\n",
    "            #Create dataframe from list\n",
    "    ct = pd.DataFrame(line)\n",
    "    return(ct)"
   ]
  },
  {
   "cell_type": "code",
   "execution_count": null,
   "id": "fa785f82",
   "metadata": {},
   "outputs": [],
   "source": [
    "#Apply open_files function to dataframe\n",
    "df = open_files(cp)\n",
    "df.head()"
   ]
  },
  {
   "cell_type": "code",
   "execution_count": 7,
   "id": "d6b5a058",
   "metadata": {},
   "outputs": [
    {
     "name": "stdout",
     "output_type": "stream",
     "text": [
      "<class 'pandas.core.frame.DataFrame'>\n",
      "RangeIndex: 528 entries, 0 to 527\n",
      "Data columns (total 5 columns):\n",
      " #   Column  Non-Null Count  Dtype \n",
      "---  ------  --------------  ----- \n",
      " 0   0       528 non-null    object\n",
      " 1   1       527 non-null    object\n",
      " 2   2       10 non-null     object\n",
      " 3   3       3 non-null      object\n",
      " 4   4       3 non-null      object\n",
      "dtypes: object(5)\n",
      "memory usage: 20.8+ KB\n"
     ]
    }
   ],
   "source": [
    "#Review info on the values of the dataframe\n",
    "df.info()"
   ]
  },
  {
   "cell_type": "code",
   "execution_count": 8,
   "id": "ef024e77",
   "metadata": {},
   "outputs": [
    {
     "data": {
      "text/plain": [
       "(528, 5)"
      ]
     },
     "execution_count": 8,
     "metadata": {},
     "output_type": "execute_result"
    }
   ],
   "source": [
    "#Review the shape of the dataframe\n",
    "df.shape"
   ]
  },
  {
   "cell_type": "code",
   "execution_count": 9,
   "id": "75f2b386",
   "metadata": {},
   "outputs": [
    {
     "data": {
      "text/plain": [
       "0      0\n",
       "1      1\n",
       "2    518\n",
       "3    525\n",
       "4    525\n",
       "dtype: int64"
      ]
     },
     "execution_count": 9,
     "metadata": {},
     "output_type": "execute_result"
    }
   ],
   "source": [
    "#Check dataframe for null values\n",
    "df.isna().sum()"
   ]
  },
  {
   "cell_type": "markdown",
   "id": "bf9cac5d",
   "metadata": {},
   "source": [
    "The following were observed from the dataframe:\n",
    "* Athough there are 5 columns, some of them have quite a number of null rows. The dataframe will be split each column cleaned individually and grouped to account for columns with more null rows than some.\n",
    "* The values in each colmn are encased in double quotes - **\"\"**. These will be removed.\n",
    "* Each row in per column contains more than one value, separated by **;**. Eech row per column will be splitted by the seperatorand appended to the rows of a new dataframe."
   ]
  },
  {
   "cell_type": "markdown",
   "id": "75d36aeb",
   "metadata": {},
   "source": [
    "### Data Cleaning"
   ]
  },
  {
   "cell_type": "code",
   "execution_count": null,
   "id": "8bb599f4",
   "metadata": {},
   "outputs": [],
   "source": [
    "#Strip dataframe of double quotes\n",
    "dfa = df.apply(lambda x: x.str.replace('\"', ''), axis = 0)\n",
    "dfa"
   ]
  },
  {
   "cell_type": "code",
   "execution_count": null,
   "id": "0c481f8f",
   "metadata": {},
   "outputs": [],
   "source": [
    "dfa[2].value_counts()"
   ]
  },
  {
   "cell_type": "code",
   "execution_count": null,
   "id": "1b6b2847",
   "metadata": {},
   "outputs": [],
   "source": [
    "#Expand column 1\n",
    "dof = dfa[0].str.split(';', expand = True)\n",
    "dof.rename(columns={0:'id'}, inplace=True)\n",
    "dof.drop(6, axis = 1, inplace=True)\n",
    "dof"
   ]
  },
  {
   "cell_type": "code",
   "execution_count": null,
   "id": "6be8f085",
   "metadata": {},
   "outputs": [],
   "source": [
    "#Expand column 2\n",
    "dif = dfa[1].str.split(';', expand = True)\n",
    "dif.rename(columns={21:'id'}, inplace=True)\n",
    "dif.drop([22,8], axis = 1, inplace=True)\n",
    "dif"
   ]
  },
  {
   "cell_type": "code",
   "execution_count": 14,
   "id": "28f6fb72",
   "metadata": {},
   "outputs": [],
   "source": [
    "#Merge both dataframes to create first mdf\n",
    "mdf = dof.merge(dif, on='id')\n"
   ]
  },
  {
   "cell_type": "code",
   "execution_count": 15,
   "id": "e011fa88",
   "metadata": {},
   "outputs": [
    {
     "data": {
      "text/plain": [
       "(527, 26)"
      ]
     },
     "execution_count": 15,
     "metadata": {},
     "output_type": "execute_result"
    }
   ],
   "source": [
    "#Review the shape of new master dataframe\n",
    "mdf.shape"
   ]
  },
  {
   "cell_type": "code",
   "execution_count": 16,
   "id": "928a34e0",
   "metadata": {},
   "outputs": [],
   "source": [
    "#Drop unwanted columns\n",
    "mdf.drop(['3_x', '5_x'], axis = 1, inplace=True)"
   ]
  },
  {
   "cell_type": "code",
   "execution_count": null,
   "id": "67a911ac",
   "metadata": {},
   "outputs": [],
   "source": [
    "#Review the first 5 rows\n",
    "mdf.head()\n"
   ]
  },
  {
   "cell_type": "code",
   "execution_count": 18,
   "id": "321a89ad",
   "metadata": {},
   "outputs": [],
   "source": [
    "#  Write mdf to csv file\n",
    "mdf.to_csv('cpu.csv')"
   ]
  },
  {
   "cell_type": "markdown",
   "id": "8eac1392",
   "metadata": {},
   "source": [
    "### Parse files with extended lengths"
   ]
  },
  {
   "cell_type": "code",
   "execution_count": null,
   "id": "db361738",
   "metadata": {},
   "outputs": [],
   "source": [
    "#Expand column 3\n",
    "dtf = dfa[2].str.split(';', expand = True)\n",
    "dtf.rename(columns={21:'id'}, inplace=True)\n",
    "dtf.drop([22,8], axis = 1, inplace=True)\n",
    "dtf.dropna(axis=0, inplace=True)\n",
    "dtf"
   ]
  },
  {
   "cell_type": "code",
   "execution_count": null,
   "id": "f763bd2e",
   "metadata": {},
   "outputs": [],
   "source": [
    "#Expand column 5\n",
    "dff = dfa[3].str.split(';', expand = True)\n",
    "dff.rename(columns={21:'id'}, inplace=True)\n",
    "dff.drop([22,8], axis = 1, inplace=True)\n",
    "dff.dropna(axis=0, inplace=True)\n",
    "dff"
   ]
  },
  {
   "cell_type": "code",
   "execution_count": null,
   "id": "669cb8df",
   "metadata": {},
   "outputs": [],
   "source": [
    "#Apppend dataframes\n",
    "amdf = dtf.append(dff)\n",
    "amdf"
   ]
  },
  {
   "cell_type": "code",
   "execution_count": 22,
   "id": "fb4dbb88",
   "metadata": {},
   "outputs": [],
   "source": [
    "# Write amdf to csv file\n",
    "amdf.to_csv('cpu2.csv')"
   ]
  },
  {
   "cell_type": "markdown",
   "id": "cfda4e8e",
   "metadata": {},
   "source": [
    "### Note:\n",
    "Not every cleaning step may be applicable to the content of every .cpu file. However, the lines of code used to parse and access the contents of every file, remains uniform amongst most."
   ]
  }
 ],
 "metadata": {
  "kernelspec": {
   "display_name": "Python 3.9.6 64-bit",
   "language": "python",
   "name": "python3"
  },
  "language_info": {
   "codemirror_mode": {
    "name": "ipython",
    "version": 3
   },
   "file_extension": ".py",
   "mimetype": "text/x-python",
   "name": "python",
   "nbconvert_exporter": "python",
   "pygments_lexer": "ipython3",
   "version": "3.9.6"
  },
  "vscode": {
   "interpreter": {
    "hash": "31f2aee4e71d21fbe5cf8b01ff0e069b9275f58929596ceb00d14d90e3e16cd6"
   }
  }
 },
 "nbformat": 4,
 "nbformat_minor": 5
}
